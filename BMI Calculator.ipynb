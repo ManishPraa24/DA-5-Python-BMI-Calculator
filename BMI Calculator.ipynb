{
 "cells": [
  {
   "cell_type": "markdown",
   "id": "9734a04a-11fc-41ca-9e34-14814e9fc403",
   "metadata": {},
   "source": [
    "# BMI Calculator\n",
    "\n",
    "<br>\n",
    "\n",
    "<h3>BMI : Body Mass Index</h3>\n",
    "\n",
    "<br>\n",
    "\n",
    "<h4>Formula:</h4>\n",
    "<h5>BMI = Weight / Height<sup>2</sup></h5>\n",
    "\n",
    "<br>\n",
    "<h5>Unit of weight : Kilograms</h5>\n",
    "<h5>Unit of height : meters</h5>\n",
    "\n",
    "<br>\n",
    "\n",
    "<img style=\"margin:auto\" src=\"https://d26tpo4cm8sb6k.cloudfront.net/img/bmi-chart.gif\"/>\n",
    "\n",
    "<br>\n",
    "Data reference : <a href=\"https://www.calculator.net/bmi-calculator.html\">https://www.calculator.net/bmi-calculator.html</a>\n"
   ]
  },
  {
   "cell_type": "code",
   "execution_count": 36,
   "id": "a0896b41-0a56-408b-a029-4536a4151031",
   "metadata": {},
   "outputs": [
    {
     "name": "stdin",
     "output_type": "stream",
     "text": [
      "Enter your weight in kilograms :  69\n",
      "Enter your height in inches :  65\n"
     ]
    },
    {
     "name": "stdout",
     "output_type": "stream",
     "text": [
      "BMI calculated is  25.25808284023669\n",
      "BMI Prime calculated is  1.0103233136094676\n",
      "You are classfied as 'Over weight'.\n"
     ]
    }
   ],
   "source": [
    "weight = input(\"Enter your weight in kilograms : \")\n",
    "\n",
    "height = float(input(\"Enter your height in inches : \"))\n",
    "\n",
    "# Converting weight taken in kgs into pounds\n",
    "\n",
    "weight_in_pounds = int(weight) * 2.2\n",
    "\n",
    "\n",
    "# Calculating BMI\n",
    "\n",
    "BMI = (weight_in_pounds * 703) / (height**2)\n",
    "\n",
    "print(\"BMI calculated is \", BMI)\n",
    "\n",
    "BMI_prime = BMI / 25\n",
    "\n",
    "print(\"BMI Prime calculated is \", BMI_prime)\n",
    "\n",
    "# Classfying the BMI into the category it goes\n",
    "\n",
    "if BMI>0.0:\n",
    "    if BMI<16:\n",
    "        print(\"You are classfied as 'Severe thinness'.\")\n",
    "    elif BMI<=17:\n",
    "        print(\"You are classfied as 'Moderate thinness'.\")\n",
    "    elif BMI<=18.5:\n",
    "        print(\"You are classfied as 'Mild thinness'.\")\n",
    "    elif BMI<=25:\n",
    "        print(\"You are classfied as 'Normal'.\")\n",
    "    elif BMI<=30:\n",
    "        print(\"You are classfied as 'Over weight'.\")\n",
    "    elif BMI<=35:\n",
    "        print(\"You are classfied as 'Obese class I'.\")\n",
    "    elif BMI<=40:\n",
    "        print(\"You are classfied as 'Obese class II'.\")\n",
    "    else:\n",
    "        print(\"You are classfied as 'Obese class III'.\")\n",
    "else:\n",
    "    print(\"Enter a valid input.\")\n",
    "        "
   ]
  },
  {
   "cell_type": "code",
   "execution_count": null,
   "id": "21dac126-5650-4557-bba5-1df55f782f5e",
   "metadata": {},
   "outputs": [],
   "source": []
  }
 ],
 "metadata": {
  "kernelspec": {
   "display_name": "Python 3 (ipykernel)",
   "language": "python",
   "name": "python3"
  },
  "language_info": {
   "codemirror_mode": {
    "name": "ipython",
    "version": 3
   },
   "file_extension": ".py",
   "mimetype": "text/x-python",
   "name": "python",
   "nbconvert_exporter": "python",
   "pygments_lexer": "ipython3",
   "version": "3.12.0"
  }
 },
 "nbformat": 4,
 "nbformat_minor": 5
}
